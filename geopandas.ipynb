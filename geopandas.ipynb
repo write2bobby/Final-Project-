{
 "cells": [
  {
   "cell_type": "code",
   "execution_count": 15,
   "metadata": {},
   "outputs": [],
   "source": [
    "# importing libraries\n",
    "import pandas as pd # Reading csv file \n",
    "from shapely.geometry import Point # Shapely for converting latitude/longtitude to geometry\n",
    "import geopandas as gpd # To create GeodataFrame"
   ]
  },
  {
   "cell_type": "code",
   "execution_count": 16,
   "metadata": {},
   "outputs": [],
   "source": [
    "airbnb = pd.read_csv('listingsto.csv')"
   ]
  },
  {
   "cell_type": "code",
   "execution_count": 17,
   "metadata": {},
   "outputs": [
    {
     "data": {
      "text/html": [
       "<div>\n",
       "<style scoped>\n",
       "    .dataframe tbody tr th:only-of-type {\n",
       "        vertical-align: middle;\n",
       "    }\n",
       "\n",
       "    .dataframe tbody tr th {\n",
       "        vertical-align: top;\n",
       "    }\n",
       "\n",
       "    .dataframe thead th {\n",
       "        text-align: right;\n",
       "    }\n",
       "</style>\n",
       "<table border=\"1\" class=\"dataframe\">\n",
       "  <thead>\n",
       "    <tr style=\"text-align: right;\">\n",
       "      <th></th>\n",
       "      <th>id</th>\n",
       "      <th>latitude</th>\n",
       "      <th>longitude</th>\n",
       "      <th>room_type</th>\n",
       "      <th>reviews_per_month</th>\n",
       "      <th>number_of_reviews</th>\n",
       "      <th>price</th>\n",
       "    </tr>\n",
       "  </thead>\n",
       "  <tbody>\n",
       "    <tr>\n",
       "      <th>0</th>\n",
       "      <td>1419</td>\n",
       "      <td>43.64617</td>\n",
       "      <td>-79.42451</td>\n",
       "      <td>Entire home/apt</td>\n",
       "      <td>0.16</td>\n",
       "      <td>7</td>\n",
       "      <td>469</td>\n",
       "    </tr>\n",
       "    <tr>\n",
       "      <th>1</th>\n",
       "      <td>8077</td>\n",
       "      <td>43.64105</td>\n",
       "      <td>-79.37628</td>\n",
       "      <td>Private room</td>\n",
       "      <td>1.45</td>\n",
       "      <td>169</td>\n",
       "      <td>100</td>\n",
       "    </tr>\n",
       "    <tr>\n",
       "      <th>2</th>\n",
       "      <td>12604</td>\n",
       "      <td>43.66724</td>\n",
       "      <td>-79.41598</td>\n",
       "      <td>Private room</td>\n",
       "      <td>NaN</td>\n",
       "      <td>0</td>\n",
       "      <td>67</td>\n",
       "    </tr>\n",
       "    <tr>\n",
       "      <th>3</th>\n",
       "      <td>23691</td>\n",
       "      <td>43.69602</td>\n",
       "      <td>-79.45468</td>\n",
       "      <td>Private room</td>\n",
       "      <td>1.94</td>\n",
       "      <td>207</td>\n",
       "      <td>70</td>\n",
       "    </tr>\n",
       "    <tr>\n",
       "      <th>4</th>\n",
       "      <td>26654</td>\n",
       "      <td>43.64530</td>\n",
       "      <td>-79.38940</td>\n",
       "      <td>Entire home/apt</td>\n",
       "      <td>0.36</td>\n",
       "      <td>36</td>\n",
       "      <td>200</td>\n",
       "    </tr>\n",
       "  </tbody>\n",
       "</table>\n",
       "</div>"
      ],
      "text/plain": [
       "      id  latitude  longitude        room_type  reviews_per_month  \\\n",
       "0   1419  43.64617  -79.42451  Entire home/apt               0.16   \n",
       "1   8077  43.64105  -79.37628     Private room               1.45   \n",
       "2  12604  43.66724  -79.41598     Private room                NaN   \n",
       "3  23691  43.69602  -79.45468     Private room               1.94   \n",
       "4  26654  43.64530  -79.38940  Entire home/apt               0.36   \n",
       "\n",
       "   number_of_reviews  price  \n",
       "0                  7    469  \n",
       "1                169    100  \n",
       "2                  0     67  \n",
       "3                207     70  \n",
       "4                 36    200  "
      ]
     },
     "execution_count": 17,
     "metadata": {},
     "output_type": "execute_result"
    }
   ],
   "source": [
    "airbnb.head()"
   ]
  },
  {
   "cell_type": "code",
   "execution_count": 18,
   "metadata": {},
   "outputs": [],
   "source": [
    "# creating a geometry column \n",
    "geometry = [Point(xy) for xy in zip(airbnb['longitude'], airbnb['latitude'])]\n",
    "\n",
    "# Coordinate reference system : WGS84\n",
    "crs = {'init': 'epsg:4326'}\n",
    "\n",
    "# Creating a Geographic data frame \n",
    "gdf = gpd.GeoDataFrame(airbnb, crs=crs, geometry=geometry)"
   ]
  },
  {
   "cell_type": "code",
   "execution_count": 19,
   "metadata": {},
   "outputs": [
    {
     "data": {
      "text/html": [
       "<div>\n",
       "<style scoped>\n",
       "    .dataframe tbody tr th:only-of-type {\n",
       "        vertical-align: middle;\n",
       "    }\n",
       "\n",
       "    .dataframe tbody tr th {\n",
       "        vertical-align: top;\n",
       "    }\n",
       "\n",
       "    .dataframe thead th {\n",
       "        text-align: right;\n",
       "    }\n",
       "</style>\n",
       "<table border=\"1\" class=\"dataframe\">\n",
       "  <thead>\n",
       "    <tr style=\"text-align: right;\">\n",
       "      <th></th>\n",
       "      <th>id</th>\n",
       "      <th>latitude</th>\n",
       "      <th>longitude</th>\n",
       "      <th>room_type</th>\n",
       "      <th>reviews_per_month</th>\n",
       "      <th>number_of_reviews</th>\n",
       "      <th>price</th>\n",
       "      <th>geometry</th>\n",
       "    </tr>\n",
       "  </thead>\n",
       "  <tbody>\n",
       "    <tr>\n",
       "      <th>0</th>\n",
       "      <td>1419</td>\n",
       "      <td>43.64617</td>\n",
       "      <td>-79.42451</td>\n",
       "      <td>Entire home/apt</td>\n",
       "      <td>0.16</td>\n",
       "      <td>7</td>\n",
       "      <td>469</td>\n",
       "      <td>POINT (-79.42451 43.64617)</td>\n",
       "    </tr>\n",
       "    <tr>\n",
       "      <th>1</th>\n",
       "      <td>8077</td>\n",
       "      <td>43.64105</td>\n",
       "      <td>-79.37628</td>\n",
       "      <td>Private room</td>\n",
       "      <td>1.45</td>\n",
       "      <td>169</td>\n",
       "      <td>100</td>\n",
       "      <td>POINT (-79.37628000000001 43.64105)</td>\n",
       "    </tr>\n",
       "    <tr>\n",
       "      <th>2</th>\n",
       "      <td>12604</td>\n",
       "      <td>43.66724</td>\n",
       "      <td>-79.41598</td>\n",
       "      <td>Private room</td>\n",
       "      <td>NaN</td>\n",
       "      <td>0</td>\n",
       "      <td>67</td>\n",
       "      <td>POINT (-79.41598 43.66724)</td>\n",
       "    </tr>\n",
       "    <tr>\n",
       "      <th>3</th>\n",
       "      <td>23691</td>\n",
       "      <td>43.69602</td>\n",
       "      <td>-79.45468</td>\n",
       "      <td>Private room</td>\n",
       "      <td>1.94</td>\n",
       "      <td>207</td>\n",
       "      <td>70</td>\n",
       "      <td>POINT (-79.45468000000001 43.69602)</td>\n",
       "    </tr>\n",
       "    <tr>\n",
       "      <th>4</th>\n",
       "      <td>26654</td>\n",
       "      <td>43.64530</td>\n",
       "      <td>-79.38940</td>\n",
       "      <td>Entire home/apt</td>\n",
       "      <td>0.36</td>\n",
       "      <td>36</td>\n",
       "      <td>200</td>\n",
       "      <td>POINT (-79.38939999999999 43.6453)</td>\n",
       "    </tr>\n",
       "  </tbody>\n",
       "</table>\n",
       "</div>"
      ],
      "text/plain": [
       "      id  latitude  longitude        room_type  reviews_per_month  \\\n",
       "0   1419  43.64617  -79.42451  Entire home/apt               0.16   \n",
       "1   8077  43.64105  -79.37628     Private room               1.45   \n",
       "2  12604  43.66724  -79.41598     Private room                NaN   \n",
       "3  23691  43.69602  -79.45468     Private room               1.94   \n",
       "4  26654  43.64530  -79.38940  Entire home/apt               0.36   \n",
       "\n",
       "   number_of_reviews  price                             geometry  \n",
       "0                  7    469           POINT (-79.42451 43.64617)  \n",
       "1                169    100  POINT (-79.37628000000001 43.64105)  \n",
       "2                  0     67           POINT (-79.41598 43.66724)  \n",
       "3                207     70  POINT (-79.45468000000001 43.69602)  \n",
       "4                 36    200   POINT (-79.38939999999999 43.6453)  "
      ]
     },
     "execution_count": 19,
     "metadata": {},
     "output_type": "execute_result"
    }
   ],
   "source": [
    "gdf.head()"
   ]
  },
  {
   "cell_type": "code",
   "execution_count": 20,
   "metadata": {},
   "outputs": [
    {
     "data": {
      "text/plain": [
       "<matplotlib.axes._subplots.AxesSubplot at 0x160c730e588>"
      ]
     },
     "execution_count": 20,
     "metadata": {},
     "output_type": "execute_result"
    },
    {
     "data": {
      "image/png": "[encoded data removed]",
      "text/plain": [
       "<Figure size 432x288 with 1 Axes>"
      ]
     },
     "metadata": {
      "needs_background": "light"
     },
     "output_type": "display_data"
    }
   ],
   "source": [
    "gdf.plot(marker='o', color='r', markersize=0.5)"
   ]
  },
  {
   "cell_type": "code",
   "execution_count": null,
   "metadata": {},
   "outputs": [],
   "source": []
  }
 ],
 "metadata": {
  "kernelspec": {
   "display_name": "Python 3",
   "language": "python",
   "name": "python3"
  },
  "language_info": {
   "codemirror_mode": {
    "name": "ipython",
    "version": 3
   },
   "file_extension": ".py",
   "mimetype": "text/x-python",
   "name": "python",
   "nbconvert_exporter": "python",
   "pygments_lexer": "ipython3",
   "version": "3.7.3"
  }
 },
 "nbformat": 4,
 "nbformat_minor": 2
}
